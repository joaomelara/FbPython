{
  "nbformat": 4,
  "nbformat_minor": 0,
  "metadata": {
    "colab": {
      "provenance": [],
      "authorship_tag": "ABX9TyM4FW3ivL0KVm5EivOvBS3B",
      "include_colab_link": true
    },
    "kernelspec": {
      "name": "python3",
      "display_name": "Python 3"
    },
    "language_info": {
      "name": "python"
    }
  },
  "cells": [
    {
      "cell_type": "markdown",
      "metadata": {
        "id": "view-in-github",
        "colab_type": "text"
      },
      "source": [
        "<a href=\"https://colab.research.google.com/github/joaomelara/FbPython/blob/main/analiseVENDAS.ipynb\" target=\"_parent\"><img src=\"https://colab.research.google.com/assets/colab-badge.svg\" alt=\"Open In Colab\"/></a>"
      ]
    },
    {
      "cell_type": "code",
      "source": [],
      "metadata": {
        "id": "PlwvPKYiYzO1"
      },
      "execution_count": null,
      "outputs": []
    },
    {
      "cell_type": "code",
      "execution_count": 5,
      "metadata": {
        "id": "twk0abvxNoGs",
        "colab": {
          "base_uri": "https://localhost:8080/"
        },
        "outputId": "d904f5c8-1d89-4dc2-bca8-65a60f979320"
      },
      "outputs": [
        {
          "output_type": "stream",
          "name": "stdout",
          "text": [
            "1\n"
          ]
        }
      ],
      "source": [
        "import pandas as pd\n",
        "import numpy as np\n",
        "import statistics as st\n",
        "\n",
        "\n",
        "def calcular_media(numeros):\n",
        "  return sum(numeros)/len(numeros)\n",
        "\n",
        "def count_var(numeros, x):\n",
        "  for x in numeros:\n",
        "    i = 0\n",
        "    i += 1\n",
        "    return i\n",
        "\n",
        "\n",
        "\n",
        "\n",
        "\n",
        "valor_substituto = \"Não localizado\"\n",
        "\n",
        "#tratamento caso haja valor nulo, para então uma melhor identificação do erro\n",
        "df = pd.read_csv(\"https://drive.google.com/uc?id=1TVkLLP5a68yj9ee2c5SDzDxgRGUrXqx-\", sep=\";\")\n",
        "df['Cliende ID'] = df['Cliende ID'].fillna(valor_substituto)\n",
        "df['Idade'] = df['Idade'].fillna(valor_substituto)\n",
        "df['Item Comprado'] = df['Item Comprado'].fillna(valor_substituto)\n",
        "df['Categoria'] = df['Categoria'].fillna(valor_substituto)\n",
        "df['Cidade'] = df['Cidade'].fillna(valor_substituto)\n",
        "df['Método Pagamento'] = df['Método Pagamento'].fillna(valor_substituto)\n",
        "#print(df)\n",
        "\n",
        "media_idade = calcular_media(df.Idade)\n",
        "\n",
        "#MÉDIA IDADE\n",
        "#print(\"Average is equal to \" + str(format(media_idade,\".2f\")))\n",
        "\n",
        "desvio_padrao = np.std(df.Idade)\n",
        "\n",
        "#DESVIO PADRÃO IDADE\n",
        "#print(format(desvio_padrao,\".2f\"))\n",
        "\n",
        "#MEDIANA IDADE\n",
        "media_idade = st.median(df.Idade)\n",
        "#print(\"A mediana entre as idades é \" + str(media_idade))\n",
        "\n",
        "#Aqui chequei todas as colunas para verificar se havia valores com erro NAN\n",
        "num_nans = df['Método Pagamento'].isna().sum()\n",
        "#print(num_nans)\n",
        "\n",
        "#Aqui chequei se havia valores nulos, caso necessitasse fazer um tratamento\n",
        "num_nulls = df['Cliende ID'].isnull().sum() + df['Idade'].isnull().sum() + df['Item Comprado'].isnull().sum() + df['Categoria'].isnull().sum() + df['Cidade'].isnull().sum() + df['Método Pagamento'].isnull().sum()\n",
        "#print(num_nulls)\n",
        "\n",
        "numero_categoria = count_var(df.Categoria, \"Roupas\")\n",
        "print(numero_categoria)\n",
        "\n",
        "\n"
      ]
    },
    {
      "cell_type": "code",
      "source": [
        "import pandas as pd\n",
        "import matplotlib.pyplot as plt\n",
        "import seaborn as sns\n",
        "\n",
        "\n",
        "df = pd.read_csv(\"https://drive.google.com/uc?id=1TVkLLP5a68yj9ee2c5SDzDxgRGUrXqx-\", sep=\";\")\n",
        "\n",
        "\n",
        "\n",
        "print(\"DF:\")\n",
        "print(df.head())\n",
        "\n",
        "\n",
        "print(\"\\nEstatísticas:\")\n",
        "print(df.describe())\n",
        "\n",
        "print(\"\\nValores ausentes por coluna:\")\n",
        "print(df.isnull().sum())\n",
        "\n",
        "\n",
        "idades = [0, 18, 30, 40, 50, 60, 100]\n",
        "divisoes = ['0-18', '19-30', '31-40', '41-50', '51-60', '60+']\n",
        "df['Idade Pessoa'] = pd.cut(df['Idade'], bins=idades, labels=divisoes, right=False)\n",
        "\n",
        "\n",
        "top_items = df['Item Comprado'].value_counts().head(10)\n",
        "print(\"\\nItens mais vendidos:\")\n",
        "print(top_items)\n",
        "\n",
        "top_categories = df['Categoria'].value_counts()\n",
        "print(\"\\nCategorias mais populares:\")\n",
        "print(top_categories)\n",
        "\n",
        "try:\n",
        "  avg_purchase_by_age = df.groupby('Idade Pessoa')['Valor Compra'].mean()\n",
        "  print(\"\\nValor médio das compras por idade:\")\n",
        "  print(avg_purchase_by_age)\n",
        "except ValueError:\n",
        "  print(\"Não localizado\")\n",
        "\n",
        "avg_purchase_by_city = df.groupby('Cidade')['Valor Compra'].mean()\n",
        "print(\"\\nValor médio das compras por cidade:\")\n",
        "print(avg_purchase_by_city)\n",
        "\n",
        "payment_preferences = df.groupby(['Idade Pessoa', 'Método Pagamento']).size().unstack(fill_value=0)\n",
        "print(\"\\nPreferências de método de pagamento por faixa etária:\")\n",
        "print(payment_preferences)\n",
        "\n",
        "\n",
        "# Gráfico de barras para vendas por categoria\n",
        "#plt.figure(figsize=(10, 6))\n",
        "#sns.countplot(data=df, x='Categoria', order=df['Categoria'].value_counts().index)\n",
        "#plt.title('Vendas por Categoria')\n",
        "#plt.xlabel('Categoria')\n",
        "#plt.ylabel('Número de Vendas')\n",
        "#plt.xticks(rotation=45)\n",
        "#plt.show()\n",
        "\n",
        "# Gráfico de distribuição de idade dos clientes\n",
        "#plt.figure(figsize=(8, 6))\n",
        "#sns.histplot(data=df, x='Idade', bins=20, kde=True)\n",
        "#plt.title('Distribuição de Idade dos Clientes')\n",
        "#plt.xlabel('Idade')\n",
        "#plt.ylabel('Contagem')\n",
        "#plt.show()\n",
        "\n",
        "# 6. Insights e Conclusões\n",
        "# Escreva aqui seus insights e conclusões com base na análise realizada."
      ],
      "metadata": {
        "colab": {
          "base_uri": "https://localhost:8080/",
          "height": 1000
        },
        "id": "gIMYey0QcX3q",
        "outputId": "2cb9634d-dec0-4e75-b5cb-e5e3962e1b50"
      },
      "execution_count": 17,
      "outputs": [
        {
          "output_type": "stream",
          "name": "stdout",
          "text": [
            "DF:\n",
            "   Cliende ID  Idade Item Comprado Categoria  Valor Compra  \\\n",
            "0           1     55         Blusa    Roupas            53   \n",
            "1           2     19        Blusão    Roupas            64   \n",
            "2           3     50   Calça jeans    Roupas            73   \n",
            "3           4     21      Sandália  Calçados            90   \n",
            "4           5     45         Blusa    Roupas            49   \n",
            "\n",
            "                Cidade   Método Pagamento  \n",
            "0  Rio Grande do Norte  Cartão de crédito  \n",
            "1              Roraima           Dinheiro  \n",
            "2                Piauí  Cartão de crédito  \n",
            "3                Ceará                Pix  \n",
            "4             Amazonas                Pix  \n",
            "\n",
            "Estatísticas:\n",
            "        Cliende ID        Idade  Valor Compra\n",
            "count  3900.000000  3900.000000   3900.000000\n",
            "mean   1950.500000    44.068462     59.764359\n",
            "std    1125.977353    15.207589     23.685392\n",
            "min       1.000000    18.000000     20.000000\n",
            "25%     975.750000    31.000000     39.000000\n",
            "50%    1950.500000    44.000000     60.000000\n",
            "75%    2925.250000    57.000000     81.000000\n",
            "max    3900.000000    70.000000    100.000000\n",
            "\n",
            "Valores ausentes por coluna:\n",
            "Cliende ID          0\n",
            "Idade               0\n",
            "Item Comprado       0\n",
            "Categoria           0\n",
            "Valor Compra        0\n",
            "Cidade              0\n",
            "Método Pagamento    0\n",
            "dtype: int64\n",
            "\n",
            "Itens mais vendidos:\n",
            "Item Comprado\n",
            "Camiseta          316\n",
            "Blusa             171\n",
            "Jóia              171\n",
            "Calça comprida    171\n",
            "Vestido           166\n",
            "Blusão            164\n",
            "Jaqueta           163\n",
            "Cinto             161\n",
            "Óculos de sol     161\n",
            "Casaco            161\n",
            "Name: count, dtype: int64\n",
            "\n",
            "Categorias mais populares:\n",
            "Categoria\n",
            "Roupas        1737\n",
            "Acessórios    1240\n",
            "Calçados       599\n",
            "Agasalhos      324\n",
            "Name: count, dtype: int64\n"
          ]
        },
        {
          "output_type": "error",
          "ename": "NameError",
          "evalue": "name 's' is not defined",
          "traceback": [
            "\u001b[0;31m---------------------------------------------------------------------------\u001b[0m",
            "\u001b[0;31mNameError\u001b[0m                                 Traceback (most recent call last)",
            "\u001b[0;32m<ipython-input-17-3931940f544e>\u001b[0m in \u001b[0;36m<cell line: 33>\u001b[0;34m()\u001b[0m\n\u001b[1;32m     31\u001b[0m \u001b[0mprint\u001b[0m\u001b[0;34m(\u001b[0m\u001b[0;34m\"\\nCategorias mais populares:\"\u001b[0m\u001b[0;34m)\u001b[0m\u001b[0;34m\u001b[0m\u001b[0;34m\u001b[0m\u001b[0m\n\u001b[1;32m     32\u001b[0m \u001b[0mprint\u001b[0m\u001b[0;34m(\u001b[0m\u001b[0mtop_categories\u001b[0m\u001b[0;34m)\u001b[0m\u001b[0;34m\u001b[0m\u001b[0;34m\u001b[0m\u001b[0m\n\u001b[0;32m---> 33\u001b[0;31m \u001b[0ms\u001b[0m\u001b[0;34m\u001b[0m\u001b[0;34m\u001b[0m\u001b[0m\n\u001b[0m\u001b[1;32m     34\u001b[0m \u001b[0;32mtry\u001b[0m\u001b[0;34m:\u001b[0m\u001b[0;34m\u001b[0m\u001b[0;34m\u001b[0m\u001b[0m\n\u001b[1;32m     35\u001b[0m   \u001b[0mavg_purchase_by_age\u001b[0m \u001b[0;34m=\u001b[0m \u001b[0mdf\u001b[0m\u001b[0;34m.\u001b[0m\u001b[0mgroupby\u001b[0m\u001b[0;34m(\u001b[0m\u001b[0;34m'Idade Pessoa'\u001b[0m\u001b[0;34m)\u001b[0m\u001b[0;34m[\u001b[0m\u001b[0;34m'Valor Compra'\u001b[0m\u001b[0;34m]\u001b[0m\u001b[0;34m.\u001b[0m\u001b[0mmean\u001b[0m\u001b[0;34m(\u001b[0m\u001b[0;34m)\u001b[0m\u001b[0;34m\u001b[0m\u001b[0;34m\u001b[0m\u001b[0m\n",
            "\u001b[0;31mNameError\u001b[0m: name 's' is not defined"
          ]
        }
      ]
    }
  ]
}